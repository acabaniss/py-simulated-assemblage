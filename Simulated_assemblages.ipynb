{
 "cells": [
  {
   "cell_type": "markdown",
   "metadata": {},
   "source": [
    "# Comparing real and simulated assemblages\n",
    "## Assessing typicality and deviation from expectations empirically\n",
    "\n",
    "\n",
    "With domestic assemblages, it is unclear in many cases whether the handful of sherds and other objects are meaningfully deposited rather than reflecting depositional and post-depositional processes. One way of considering this problem is to construct alternative assemblages via bootstrapping and other simulation techniques that let us glimpse larger universes of archaeological sites and compare them to our own.\n",
    "\n",
    "This code attempts to do so by taking the empirical frequency and density of artifacts separated by categories across multiple assemblages and generating statistically similar assemblages in order to estimate what \"typical\" assemblages with these properties would look like. These generated assmeblages can be contrasted with individual real assemblages or the set of all observed assemblages to quantify how close the observed archaeological record is to a random categorical distribution."
   ]
  },
  {
   "cell_type": "markdown",
   "metadata": {},
   "source": [
    "A quick note about this code: this runs in Python 3, and hasn't been tested in Python 2. It might work! I just haven't checked it yet."
   ]
  },
  {
   "cell_type": "code",
   "execution_count": 1,
   "metadata": {},
   "outputs": [],
   "source": [
    "import numpy as np\n",
    "import scipy\n",
    "import matplotlib.pyplot as plt\n",
    "import random as rd\n",
    "import pandas as pd\n",
    "\n",
    "from simulate_assemblages import *"
   ]
  },
  {
   "cell_type": "code",
   "execution_count": 2,
   "metadata": {},
   "outputs": [],
   "source": [
    "#Although not in the source code, let's visualize the results using some nice plots\n",
    "## this requires sklearn for the pca; you're welcome to not use this \n",
    "## and just switch the PCA over to something else\n",
    "import sklearn.preprocessing\n",
    "import sklearn.decomposition\n",
    "from sklearn.pipeline import Pipeline\n",
    "\n",
    "def plot_results(result):\n",
    "    \"\"\"Take the result object from either function and return a nice plot of the distribution.\"\"\"\n",
    "    #Create two plots: one a distance histogram, one a PCA scatter plot\n",
    "    fig, (ax1, ax2) = plt.subplots(1,2, figsize = (10,5))\n",
    "    fig.suptitle('Simulated assemblages (N = {0})'.format(result['N']))\n",
    "    \n",
    "    # First, the histogram of distances\n",
    "    ax1.hist(result['distance_simulation'], bins = 20)\n",
    "    ax1.plot([result['distance_observed']]*2, [0,result['N']/5], 'r-')\n",
    "    mean_dist = result['distance_simulation'].mean()\n",
    "    ax1.plot([mean_dist]*2, [0,result['N']/5], 'k-')\n",
    "    ax1.set_title('Distance from center (p = {0})'.format(result['p-value']))\n",
    "    ax1.set_xlabel('Distance from center of distribution')\n",
    "    \n",
    "    #PCA plot: create a 2-d plot of the (large) dimensional distribution array\n",
    "    collector_flat = result['raw_simulation'].reshape(result['N'], -1)\n",
    "    data_flat = result['raw_observed'].reshape(1, -1)\n",
    "    scaler = sklearn.preprocessing.StandardScaler().fit(collector_flat)\n",
    "    pca = sklearn.decomposition.PCA(n_components = 2)\n",
    "    pca.fit(scaler.transform(collector_flat))\n",
    "    workflow = Pipeline(steps = [('scale',scaler),('pca',pca)])\n",
    "    collector_transformed = workflow.transform(collector_flat)\n",
    "    observed_transformed = workflow.transform(data_flat)\n",
    "    mean_transformed = workflow.transform(collector_flat.mean(axis = 0).reshape(1,-1))\n",
    "    ax2.plot(collector_transformed[:,0], collector_transformed[:,1],'b.', alpha = .15)\n",
    "    ax2.plot(observed_transformed[:,0], observed_transformed[:,1],'r.', markersize = 10)\n",
    "    ax2.plot(mean_transformed[:,0], mean_transformed[:,1],'.', color = 'gray', markersize = 10)\n",
    "    ax2.set_xlabel('Normalized distance in projection')\n",
    "    ax2.set_title('2-d projection of {0}-d distribution ({1:.0f}% of variance)'.format(collector_flat.shape[1],round(100*sum(workflow['pca'].explained_variance_ratio_),0)))    #pca.explained_variance_ratio_ #note: this should just be used for visualization, NOT for classification"
   ]
  },
  {
   "cell_type": "markdown",
   "metadata": {},
   "source": [
    "## Example usage\n",
    "\n",
    "Our example data record the distribution of cooking pot fragments from Terrace House C at Monastiraki Katalimata, East Crete, Greece based on three main parts of the house: the East living quarters (\"East House\"), the West living quarters (\"West House\"), and the open-air area to the east (\"East Area\"). (Nowicki 2008)"
   ]
  },
  {
   "cell_type": "code",
   "execution_count": 16,
   "metadata": {},
   "outputs": [
    {
     "data": {
      "text/html": [
       "<div>\n",
       "<style scoped>\n",
       "    .dataframe tbody tr th:only-of-type {\n",
       "        vertical-align: middle;\n",
       "    }\n",
       "\n",
       "    .dataframe tbody tr th {\n",
       "        vertical-align: top;\n",
       "    }\n",
       "\n",
       "    .dataframe thead th {\n",
       "        text-align: right;\n",
       "    }\n",
       "</style>\n",
       "<table border=\"1\" class=\"dataframe\">\n",
       "  <thead>\n",
       "    <tr style=\"text-align: right;\">\n",
       "      <th></th>\n",
       "      <th>dish</th>\n",
       "      <th>tray</th>\n",
       "      <th>pot</th>\n",
       "    </tr>\n",
       "  </thead>\n",
       "  <tbody>\n",
       "    <tr>\n",
       "      <th>East House</th>\n",
       "      <td>1</td>\n",
       "      <td>1</td>\n",
       "      <td>3</td>\n",
       "    </tr>\n",
       "    <tr>\n",
       "      <th>West House</th>\n",
       "      <td>0</td>\n",
       "      <td>0</td>\n",
       "      <td>3</td>\n",
       "    </tr>\n",
       "    <tr>\n",
       "      <th>East Area</th>\n",
       "      <td>2</td>\n",
       "      <td>0</td>\n",
       "      <td>1</td>\n",
       "    </tr>\n",
       "  </tbody>\n",
       "</table>\n",
       "</div>"
      ],
      "text/plain": [
       "            dish  tray  pot\n",
       "East House     1     1    3\n",
       "West House     0     0    3\n",
       "East Area      2     0    1"
      ]
     },
     "execution_count": 16,
     "metadata": {},
     "output_type": "execute_result"
    }
   ],
   "source": [
    "dt = {'dish' : [1,0,2],\n",
    "     'tray' : [1,0,0],\n",
    "     'pot' : [3,3,1]}\n",
    "df = pd.DataFrame(data = dt, index = ['East House','West House','East Area'])\n",
    "df"
   ]
  },
  {
   "cell_type": "markdown",
   "metadata": {},
   "source": [
    "(Note that these are example data, and in practice you would likely want to separate vessels represented by single sherds vs. mendable or largely restorable vessels. The main takeaway is that this method works on any discrete count data.)"
   ]
  },
  {
   "cell_type": "code",
   "execution_count": 4,
   "metadata": {},
   "outputs": [
    {
     "data": {
      "text/plain": [
       "{'raw_simulation': array([[[1., 1., 7.],\n",
       "         [1., 0., 1.],\n",
       "         [0., 0., 0.]],\n",
       " \n",
       "        [[1., 1., 2.],\n",
       "         [0., 0., 3.],\n",
       "         [1., 0., 3.]],\n",
       " \n",
       "        [[0., 0., 5.],\n",
       "         [1., 0., 3.],\n",
       "         [0., 0., 2.]],\n",
       " \n",
       "        ...,\n",
       " \n",
       "        [[3., 0., 3.],\n",
       "         [1., 0., 2.],\n",
       "         [0., 0., 2.]],\n",
       " \n",
       "        [[1., 0., 4.],\n",
       "         [0., 0., 3.],\n",
       "         [1., 0., 2.]],\n",
       " \n",
       "        [[2., 1., 2.],\n",
       "         [0., 0., 5.],\n",
       "         [0., 0., 1.]]]),\n",
       " 'raw_observed': array([[1, 1, 3],\n",
       "        [0, 0, 3],\n",
       "        [2, 0, 1]], dtype=int64),\n",
       " 'distance_simulation': array([4.50894428, 2.2489667 , 2.72424074, 2.2489667 , 3.12811828,\n",
       "        3.76148379, 2.62221911, 2.51606409, 2.55193979, 4.06354484,\n",
       "        1.94553951, 4.72552415, 1.99171839, 2.85460336, 1.26621712,\n",
       "        3.78557506, 3.27020105, 2.40522846, 2.20817415, 3.32533476,\n",
       "        2.28903242, 4.19562937, 2.72424074, 1.74867128, 2.9792672 ,\n",
       "        1.33608531, 2.51606409, 3.03968245, 2.75740925, 2.91760119,\n",
       "        2.40522846, 2.51606409, 1.40247715, 1.33608531, 3.24228264,\n",
       "        3.12811828, 2.03685059, 3.12811828, 4.10804492, 1.6958871 ,\n",
       "        2.94859541, 1.84972636, 4.01855202, 1.89823755, 2.85460336,\n",
       "        1.99171839, 3.40636254, 2.75740925, 2.72424074, 2.9792672 ,\n",
       "        2.36713028, 2.91760119, 1.94553951, 4.01855202, 1.40247715,\n",
       "        1.33608531, 2.44273252, 3.21412173, 2.9792672 , 2.72424074,\n",
       "        3.1857119 , 2.36713028, 3.27020105, 3.48550718, 2.16661369,\n",
       "        3.03968245, 2.62221911, 4.04111105, 4.10804492, 3.00962643,\n",
       "        2.55193979, 2.4796694 , 3.40636254, 2.55193979, 4.58888344,\n",
       "        2.82257722, 2.91760119, 3.73723723, 2.32840881, 1.74867128,\n",
       "        1.33608531, 3.92702019, 3.06944418, 3.21412173, 3.43294683,\n",
       "        2.94859541, 2.03685059, 2.2489667 , 3.73723723, 3.78557506,\n",
       "        4.23874299, 2.03685059, 3.61356489, 3.35256162, 3.53728663,\n",
       "        4.23874299, 3.0989201 , 2.4796694 , 3.61356489, 3.32533476,\n",
       "        2.36713028, 3.63863565, 2.36713028, 3.48550718, 3.63863565,\n",
       "        1.74867128, 2.94859541, 2.28903242, 2.28903242, 2.7901835 ,\n",
       "        2.16661369, 1.79990817, 2.51606409, 1.6958871 , 2.2489667 ,\n",
       "        2.12424026, 1.79990817, 3.66353485, 3.06944418, 4.13011516,\n",
       "        4.76384455, 4.32368071, 2.55193979, 3.21412173, 3.03968245,\n",
       "        2.08100421, 2.08100421, 5.58924587, 2.72424074, 4.70624695,\n",
       "        3.32533476, 2.88627416, 2.36713028, 2.32840881, 2.20817415,\n",
       "        2.12424026, 3.45932683, 3.85694608, 2.32840881, 1.64140637,\n",
       "        3.12811828, 4.21724127, 2.94859541, 2.62221911, 3.53728663,\n",
       "        2.69066338, 2.69066338, 1.46586505, 3.66353485, 2.12424026,\n",
       "        2.65666167, 4.13011516, 1.46586505, 3.00962643, 2.55193979,\n",
       "        2.20817415, 2.75740925, 1.33608531, 2.28903242, 1.99171839,\n",
       "        4.26013619, 4.23874299, 1.84972636, 3.00962643, 2.88627416,\n",
       "        2.55193979, 5.11358586, 4.72552415, 1.6958871 , 2.16661369,\n",
       "        2.91760119, 1.89823755, 1.6958871 , 3.48550718, 1.94553951,\n",
       "        3.78557506, 2.12424026, 2.51606409, 3.88044472, 2.9792672 ,\n",
       "        3.27020105, 3.58831897, 3.40636254, 2.88627416, 2.4796694 ,\n",
       "        2.62221911, 1.52662324, 2.72424074, 2.40522846, 2.91760119,\n",
       "        2.72424074, 2.36713028, 1.46586505, 2.32840881, 3.32533476,\n",
       "        2.12424026, 3.12811828, 3.29788312, 1.64140637, 4.10804492,\n",
       "        2.20817415, 3.71283234, 2.36713028, 2.62221911, 2.75740925,\n",
       "        2.72424074, 3.63863565, 2.28903242, 1.52662324, 4.21724127,\n",
       "        3.40636254, 3.27020105, 1.84972636, 2.58731809, 2.12424026,\n",
       "        1.99171839, 2.9792672 , 2.51606409, 4.15206809, 3.80951397,\n",
       "        1.58505416, 2.03685059, 3.90380192, 1.64140637, 2.03685059,\n",
       "        2.72424074, 2.85460336, 3.88044472, 2.75740925, 3.92702019,\n",
       "        2.58731809, 1.79990817, 3.15704643, 2.08100421, 2.51606409,\n",
       "        2.12424026, 2.75740925, 3.1857119 , 1.94553951, 3.37956914,\n",
       "        2.58731809, 3.03968245, 2.85460336, 2.69066338, 4.64793565,\n",
       "        2.51606409, 2.03685059, 2.65666167, 3.1857119 , 3.32533476,\n",
       "        3.24228264, 1.89823755, 4.87699948, 2.03685059, 2.82257722,\n",
       "        2.62221911, 2.82257722, 4.78288961, 3.83330339, 3.32533476,\n",
       "        4.15206809, 4.66745369, 4.52906135, 1.02851895, 2.91760119,\n",
       "        2.44273252, 3.1857119 , 3.85694608, 2.12424026, 2.85460336,\n",
       "        2.2489667 , 3.21412173, 2.03685059, 1.79990817, 2.94859541,\n",
       "        3.71283234, 1.6958871 , 2.88627416, 3.27020105, 1.6958871 ,\n",
       "        3.76148379, 3.73723723, 4.48873705, 3.53728663, 2.7901835 ,\n",
       "        3.51149235, 2.28903242, 3.950102  , 2.40522846, 1.84972636,\n",
       "        2.91760119, 4.08585546, 2.16661369, 1.74867128, 2.03685059,\n",
       "        1.74867128, 3.43294683, 3.21412173, 2.20817415, 3.0989201 ,\n",
       "        3.45932683, 3.66353485, 3.85694608, 2.7901835 , 2.44273252,\n",
       "        2.08100421, 2.91760119, 3.97304971, 2.7901835 , 3.56289417,\n",
       "        4.96932741, 2.12424026, 2.44273252, 1.11340443, 3.06944418,\n",
       "        2.58731809, 2.9792672 , 1.40247715, 1.94553951, 3.43294683,\n",
       "        2.03685059, 2.44273252, 1.94553951, 2.94859541, 3.03968245,\n",
       "        1.6958871 , 1.74867128, 2.55193979, 3.63863565, 1.94553951,\n",
       "        1.84972636, 4.52906135, 2.55193979, 3.43294683, 2.55193979,\n",
       "        2.88627416, 1.99171839, 3.27020105, 3.27020105, 2.03685059,\n",
       "        2.51606409, 3.45932683, 2.51606409, 1.89823755, 4.08585546,\n",
       "        2.03685059, 4.44804721, 3.12811828, 3.48550718, 1.46586505,\n",
       "        3.43294683, 2.65666167, 4.21724127, 3.90380192, 2.44273252,\n",
       "        2.72424074, 2.82257722, 3.88044472, 2.08100421, 2.91760119,\n",
       "        4.01855202, 3.15704643, 2.20817415, 3.15704643, 1.79990817,\n",
       "        3.0989201 , 3.58831897, 2.65666167, 1.46586505, 5.81249722,\n",
       "        4.38630476, 2.20817415, 3.73723723, 2.72424074, 2.91760119,\n",
       "        1.74867128, 2.91760119, 1.74867128, 3.15704643, 4.95099957,\n",
       "        2.91760119, 2.12424026, 3.37956914, 2.62221911, 3.03968245,\n",
       "        3.0989201 , 2.85460336, 2.20817415, 3.58831897, 2.72424074,\n",
       "        4.08585546, 4.54908946, 3.21412173, 2.72424074, 3.80951397,\n",
       "        1.64140637, 1.6958871 , 3.27020105, 3.85694608, 2.65666167,\n",
       "        3.63863565, 1.84972636, 2.75740925, 2.65666167, 4.13011516,\n",
       "        2.94859541, 2.12424026, 3.0989201 , 3.68826596, 4.01855202,\n",
       "        3.63863565, 3.15704643, 2.88627416, 2.58731809, 2.94859541,\n",
       "        2.20817415, 3.48550718, 3.15704643, 4.46843845, 1.99171839,\n",
       "        2.72424074, 3.21412173, 3.76148379, 2.32840881, 4.06354484,\n",
       "        1.33608531, 1.84972636, 3.0989201 , 4.28142249, 2.55193979,\n",
       "        4.66745369, 2.91760119, 2.32840881, 2.16661369, 2.32840881,\n",
       "        1.99171839, 1.74867128, 1.89823755, 3.03968245, 3.88044472,\n",
       "        2.20817415, 2.88627416, 3.00962643, 5.09577689, 2.75740925,\n",
       "        4.70624695, 2.85460336, 3.97304971, 3.88044472, 4.34465569,\n",
       "        2.91760119, 2.12424026, 3.15704643, 2.7901835 , 2.65666167,\n",
       "        2.03685059, 4.36552989, 3.35256162, 6.40764007, 2.08100421,\n",
       "        3.45932683, 3.37956914, 1.99171839, 2.28903242, 1.02851895,\n",
       "        2.03685059, 2.9792672 , 2.65666167, 2.65666167, 2.75740925,\n",
       "        1.64140637, 2.03685059, 3.58831897, 2.7901835 , 2.94859541,\n",
       "        2.82257722, 3.45932683, 1.74867128, 2.82257722, 1.74867128,\n",
       "        2.28903242, 3.00962643, 2.55193979, 3.15704643, 3.53728663,\n",
       "        2.75740925, 2.65666167, 2.69066338, 1.84972636, 3.15704643,\n",
       "        3.56289417, 1.26621712, 3.0989201 , 2.91760119, 3.43294683,\n",
       "        3.06944418, 3.0989201 , 2.65666167, 3.51149235, 2.85460336,\n",
       "        2.2489667 , 2.82257722, 4.48873705, 2.36713028, 3.21412173,\n",
       "        2.72424074, 4.19562937, 4.01855202, 2.9792672 , 1.94553951,\n",
       "        2.62221911, 1.64140637, 3.61356489, 2.62221911, 3.92702019,\n",
       "        2.58731809, 2.51606409, 3.80951397, 2.7901835 , 3.00962643,\n",
       "        2.12424026, 2.7901835 , 2.72424074, 2.51606409, 2.58731809,\n",
       "        5.47420699, 2.40522846, 3.88044472, 3.27020105, 1.99171839,\n",
       "        3.00962643, 2.55193979, 2.08100421, 4.01855202, 2.88627416,\n",
       "        3.53728663, 5.73376256, 3.00962643, 1.46586505, 2.36713028,\n",
       "        3.56289417, 1.6958871 , 2.32840881, 2.08100421, 1.58505416,\n",
       "        1.46586505, 4.19562937, 6.01238391, 4.83957515, 2.72424074,\n",
       "        2.85460336, 3.0989201 , 3.37956914, 2.32840881, 4.40698169,\n",
       "        2.03685059, 2.7901835 , 1.94553951, 2.51606409, 1.84972636,\n",
       "        3.1857119 , 3.48550718, 2.91760119, 2.9792672 , 1.33608531,\n",
       "        3.43294683, 1.74867128, 3.35256162, 2.44273252, 1.64140637,\n",
       "        4.68689046, 2.28903242, 4.38630476, 1.84972636, 1.79990817,\n",
       "        2.55193979, 3.12811828, 2.36713028, 2.55193979, 3.00962643,\n",
       "        3.40636254, 1.79990817, 2.69066338, 2.28903242, 4.66745369,\n",
       "        2.55193979, 2.16661369, 3.68826596, 2.82257722, 3.76148379,\n",
       "        3.68826596, 3.06944418, 3.40636254, 2.69066338, 3.48550718,\n",
       "        5.73376256, 3.00962643, 2.55193979, 2.72424074, 2.75740925,\n",
       "        3.00962643, 2.94859541, 4.76384455, 2.40522846, 3.1857119 ,\n",
       "        4.15206809, 4.28142249, 3.27020105, 2.28903242, 1.6958871 ,\n",
       "        3.58831897, 1.99171839, 4.21724127, 2.36713028, 3.48550718,\n",
       "        3.63863565, 2.12424026, 4.40698169, 1.74867128, 2.69066338,\n",
       "        2.4796694 , 3.40636254, 3.63863565, 2.36713028, 1.84972636,\n",
       "        3.92702019, 2.16661369, 2.9792672 , 5.21916367, 1.6958871 ,\n",
       "        1.33608531, 2.85460336, 1.89823755, 3.78557506, 1.52662324,\n",
       "        2.82257722, 3.00962643, 3.73723723, 3.0989201 , 2.28903242,\n",
       "        2.32840881, 3.88044472, 1.74867128, 1.64140637, 1.33608531,\n",
       "        3.97304971, 3.1857119 , 1.74867128, 3.15704643, 1.02851895,\n",
       "        2.08100421, 1.6958871 , 3.40636254, 2.28903242, 2.16661369,\n",
       "        2.12424026, 3.40636254, 4.40698169, 3.51149235, 3.00962643,\n",
       "        2.36713028, 3.63863565, 2.55193979, 3.21412173, 3.97304971,\n",
       "        2.32840881, 3.66353485, 2.9792672 , 3.03968245, 2.9792672 ,\n",
       "        3.48550718, 4.72552415, 1.94553951, 3.06944418, 2.65666167,\n",
       "        3.45932683, 3.63863565, 3.73723723, 3.88044472, 1.89823755,\n",
       "        2.91760119, 1.58505416, 4.15206809, 2.28903242, 3.00962643,\n",
       "        3.56289417, 1.89823755, 4.76384455, 3.97304971, 2.36713028,\n",
       "        2.65666167, 2.9792672 , 2.28903242, 2.85460336, 5.37364244,\n",
       "        4.21724127, 2.7901835 , 3.61356489, 2.72424074, 2.82257722,\n",
       "        3.03968245, 2.58731809, 3.88044472, 3.80951397, 3.37956914,\n",
       "        1.79990817, 3.35256162, 1.89823755, 2.58731809, 1.64140637,\n",
       "        2.40522846, 3.0989201 , 2.20817415, 4.40698169, 2.82257722,\n",
       "        1.89823755, 2.32840881, 3.58831897, 2.55193979, 3.76148379,\n",
       "        4.15206809, 3.53728663, 4.91413882, 2.65666167, 2.12424026,\n",
       "        3.15704643, 1.74867128, 2.9792672 , 2.51606409, 4.6283353 ,\n",
       "        2.82257722, 2.94859541, 3.29788312, 3.99586563, 2.20817415,\n",
       "        3.51149235, 3.58831897, 1.89823755, 3.68826596, 2.65666167,\n",
       "        1.64140637, 3.27020105, 3.21412173, 2.2489667 , 1.84972636,\n",
       "        1.89823755, 2.94859541, 2.55193979, 2.91760119, 1.02851895,\n",
       "        2.58731809, 1.79990817, 2.55193979, 3.32533476, 2.40522846,\n",
       "        1.84972636, 2.72424074, 1.11340443, 3.99586563, 3.45932683,\n",
       "        3.00962643, 2.82257722, 2.72424074, 3.76148379, 3.03968245,\n",
       "        4.96932741, 4.78288961, 3.61356489, 1.74867128, 2.75740925,\n",
       "        1.89823755, 2.85460336, 2.9792672 , 3.90380192, 3.21412173,\n",
       "        2.82257722, 2.58731809, 2.08100421, 3.37956914, 1.33608531,\n",
       "        4.36552989, 2.58731809, 2.58731809, 2.12424026, 1.11340443,\n",
       "        2.12424026, 1.89823755, 2.12424026, 2.88627416, 1.74867128,\n",
       "        3.00962643, 2.16661369, 2.94859541, 4.36552989, 2.44273252,\n",
       "        2.55193979, 3.43294683, 1.89823755, 1.33608531, 2.44273252,\n",
       "        3.1857119 , 2.55193979, 3.00962643, 2.75740925, 3.15704643,\n",
       "        1.99171839, 1.79990817, 4.54908946, 3.37956914, 2.58731809,\n",
       "        1.74867128, 2.72424074, 3.40636254, 2.03685059, 2.16661369,\n",
       "        2.69066338, 1.84972636, 2.9792672 , 3.83330339, 2.85460336,\n",
       "        2.16661369, 3.1857119 , 1.99171839, 3.24228264, 3.32533476,\n",
       "        3.61356489, 1.89823755, 2.51606409, 3.88044472, 2.32840881,\n",
       "        2.91760119, 1.6958871 , 1.99171839, 3.21412173, 2.32840881,\n",
       "        3.15704643, 2.44273252, 3.68826596, 1.99171839, 1.46586505,\n",
       "        4.9875879 , 3.68826596, 3.21412173, 3.97304971, 5.149019  ,\n",
       "        2.32840881, 2.12424026, 3.32533476, 2.08100421, 2.08100421,\n",
       "        3.40636254, 4.72552415, 3.00962643, 3.40636254, 2.2489667 ,\n",
       "        3.37956914, 3.99586563, 1.94553951, 3.37956914, 1.99171839,\n",
       "        2.51606409, 3.56289417, 1.74867128, 3.73723723, 3.43294683,\n",
       "        3.56289417, 3.27020105, 1.99171839, 2.55193979, 1.79990817,\n",
       "        2.7901835 , 2.62221911, 2.91760119, 2.75740925, 2.58731809,\n",
       "        2.9792672 , 3.24228264, 3.27020105, 2.75740925, 2.62221911,\n",
       "        2.44273252, 1.79990817, 4.34465569, 3.06944418, 1.58505416,\n",
       "        1.84972636, 2.91760119, 3.97304971, 2.44273252, 2.88627416,\n",
       "        1.6958871 , 3.15704643, 2.65666167, 2.16661369, 3.00962643,\n",
       "        1.99171839, 2.36713028, 2.58731809, 4.28142249, 2.75740925,\n",
       "        2.03685059, 4.34465569, 2.88627416, 3.51149235, 2.55193979,\n",
       "        4.66745369, 1.84972636, 4.17390556, 1.64140637, 2.36713028,\n",
       "        2.40522846, 2.91760119, 4.36552989, 3.61356489, 3.85694608,\n",
       "        2.40522846, 4.06354484, 3.85694608, 1.46586505, 3.21412173,\n",
       "        2.28903242, 3.85694608, 4.04111105, 4.44804721, 3.29788312,\n",
       "        3.21412173, 1.94553951, 2.62221911, 4.08585546, 4.52906135,\n",
       "        3.1857119 , 3.37956914, 3.03968245, 2.91760119, 3.1857119 ,\n",
       "        1.99171839, 3.00962643, 3.80951397, 3.27020105, 2.36713028,\n",
       "        1.74867128, 3.35256162, 1.89823755, 2.36713028, 1.52662324,\n",
       "        1.94553951, 3.03968245, 1.52662324, 2.55193979, 2.94859541,\n",
       "        3.73723723, 2.9792672 , 3.06944418, 2.55193979, 2.88627416,\n",
       "        3.83330339, 3.73723723, 3.40636254, 1.46586505, 3.58831897,\n",
       "        3.24228264, 3.32533476, 4.30260348, 3.37956914, 3.03968245,\n",
       "        2.69066338, 2.16661369, 3.58831897, 1.79990817, 3.43294683,\n",
       "        3.24228264, 2.91760119, 3.00962643, 2.82257722, 1.99171839,\n",
       "        1.99171839, 2.58731809, 2.55193979, 3.88044472, 2.69066338,\n",
       "        2.36713028, 3.00962643, 2.20817415, 2.72424074, 2.44273252,\n",
       "        2.94859541, 3.37956914, 3.29788312, 1.99171839, 3.27020105,\n",
       "        3.76148379, 1.6958871 , 2.82257722, 3.48550718, 2.58731809,\n",
       "        3.61356489, 4.60865158, 1.94553951, 1.74867128, 3.73723723]),\n",
       " 'distance_observed': 2.16661368869327,\n",
       " 'p-value': 0.779,\n",
       " 'N': 1000,\n",
       " 'p_dist': 2,\n",
       " 'center': 'calculated'}"
      ]
     },
     "execution_count": 4,
     "metadata": {},
     "output_type": "execute_result"
    }
   ],
   "source": [
    "r = simulate_assemblages_collection(df, 1000, 2, 'calculated')\n",
    "r"
   ]
  },
  {
   "cell_type": "markdown",
   "metadata": {},
   "source": [
    "1000 simulated sites, consisting of three assemblages with three different types of vessels were generated using the empirical frequency and density of objects. Distances from the calculated center of the distribution were recorded as a measure of difference, and can be compared with the difference between the simulated assemblages and the observed assemblages to assess how close to an expected set of assemblages the distribution is. \n",
    "\n",
    "The output object, here stored as `r`, includes all generated assemblages, the observed assemblages, calculated distances for both the generated and observed assemblages, the p-value for measuring whether our observed data can be classified as unusually far from the center, and the parameters of the model. We can visualize these using the `plot_results` function defined above."
   ]
  },
  {
   "cell_type": "code",
   "execution_count": 5,
   "metadata": {},
   "outputs": [
    {
     "name": "stdout",
     "output_type": "stream",
     "text": [
      "77.9% of simulated sites were further from the center than the observed assemblages.\n"
     ]
    },
    {
     "data": {
      "image/png": "[encoded data removed]",
      "text/plain": [
       "<Figure size 720x360 with 2 Axes>"
      ]
     },
     "metadata": {
      "needs_background": "light"
     },
     "output_type": "display_data"
    }
   ],
   "source": [
    "plot_results(r)\n",
    "print('{0:2.1f}% of simulated sites were further from the center than the observed assemblages.'.format(100*r['p-value']))"
   ]
  },
  {
   "cell_type": "markdown",
   "metadata": {},
   "source": [
    "Overall, Monastiraki Katalimata is very close to typical, or what we would expect given the density and frequency of objects; it is typically within the closest 20-25% of simulated sites to the mean frequencies or expected distribution. This means that we shouldn't be \"surprised\" at the distribution of objects across the different assemblages: the frequency and density of artifacts explains the observed distribution pretty well. Whether the frequency of objects is itself meaningful would require comparison with another site.\n",
    "\n",
    "We can also check a single assemblage against the properties of all assemblages under consideration. This method addresses whether a single assemblage within a larger site may be less typical or may require an explanation greater than random chance. Let's look at the East Area, an outdoor cooking area of Terrace House C."
   ]
  },
  {
   "cell_type": "code",
   "execution_count": 32,
   "metadata": {},
   "outputs": [
    {
     "data": {
      "text/plain": [
       "{'raw_simulation': array([[1., 0., 2.],\n",
       "        [0., 1., 2.],\n",
       "        [0., 1., 2.],\n",
       "        ...,\n",
       "        [1., 2., 0.],\n",
       "        [2., 0., 1.],\n",
       "        [0., 0., 3.]]),\n",
       " 'raw_observed': array([2, 0, 1], dtype=int64),\n",
       " 'distance_simulation': array([0.34067929, 1.09839081, 1.09839081, ..., 2.57985705, 1.51507834,\n",
       "        1.39164018]),\n",
       " 'distance_observed': 1.5150783412087971,\n",
       " 'p-value': 0.209,\n",
       " 'N': 10000,\n",
       " 'p_dist': 2,\n",
       " 'center': 'observed'}"
      ]
     },
     "execution_count": 32,
     "metadata": {},
     "output_type": "execute_result"
    }
   ],
   "source": [
    "r = simulate_assemblage_single(df, df.index.get_loc('East Area'), N = 10000, center = 'observed')\n",
    "r"
   ]
  },
  {
   "cell_type": "markdown",
   "metadata": {},
   "source": [
    "Despite the overall house having a close-to-expected distribution of different cooking vessels based on the density and frequency of different types, the East Area itself is somewhat less typical - only ~20% of all simulated assemblages are further from the expected distribution. While this may not be \"significant\" in a hypothesis testing framework, it is notable."
   ]
  },
  {
   "cell_type": "code",
   "execution_count": 34,
   "metadata": {},
   "outputs": [
    {
     "data": {
      "image/png": "[encoded data removed]",
      "text/plain": [
       "<Figure size 720x360 with 2 Axes>"
      ]
     },
     "metadata": {
      "needs_background": "light"
     },
     "output_type": "display_data"
    }
   ],
   "source": [
    "plot_results(r)"
   ]
  },
  {
   "cell_type": "markdown",
   "metadata": {},
   "source": [
    "The power of such an analysis is the ability to run it across scales and datasets, checking how typicality exists across and within sites."
   ]
  },
  {
   "cell_type": "markdown",
   "metadata": {},
   "source": [
    "Finally, these same scores can be calculated for all assemblages in a site, enabling more \"typical\" or \"expected\" assemblages to be separated from \"atypical\" or \"surprising\" assemblages based on the relative variation between the frequency and density of different categories of objects between assemblages."
   ]
  },
  {
   "cell_type": "code",
   "execution_count": 38,
   "metadata": {},
   "outputs": [
    {
     "data": {
      "text/html": [
       "<div>\n",
       "<style scoped>\n",
       "    .dataframe tbody tr th:only-of-type {\n",
       "        vertical-align: middle;\n",
       "    }\n",
       "\n",
       "    .dataframe tbody tr th {\n",
       "        vertical-align: top;\n",
       "    }\n",
       "\n",
       "    .dataframe thead th {\n",
       "        text-align: right;\n",
       "    }\n",
       "</style>\n",
       "<table border=\"1\" class=\"dataframe\">\n",
       "  <thead>\n",
       "    <tr style=\"text-align: right;\">\n",
       "      <th></th>\n",
       "      <th>dish</th>\n",
       "      <th>tray</th>\n",
       "      <th>pot</th>\n",
       "      <th>p-value</th>\n",
       "    </tr>\n",
       "  </thead>\n",
       "  <tbody>\n",
       "    <tr>\n",
       "      <th>East Area</th>\n",
       "      <td>2</td>\n",
       "      <td>0</td>\n",
       "      <td>1</td>\n",
       "      <td>0.2055</td>\n",
       "    </tr>\n",
       "    <tr>\n",
       "      <th>West House</th>\n",
       "      <td>0</td>\n",
       "      <td>0</td>\n",
       "      <td>3</td>\n",
       "      <td>0.4617</td>\n",
       "    </tr>\n",
       "    <tr>\n",
       "      <th>East House</th>\n",
       "      <td>1</td>\n",
       "      <td>1</td>\n",
       "      <td>3</td>\n",
       "      <td>1.0000</td>\n",
       "    </tr>\n",
       "  </tbody>\n",
       "</table>\n",
       "</div>"
      ],
      "text/plain": [
       "            dish  tray  pot  p-value\n",
       "East Area      2     0    1   0.2055\n",
       "West House     0     0    3   0.4617\n",
       "East House     1     1    3   1.0000"
      ]
     },
     "execution_count": 38,
     "metadata": {},
     "output_type": "execute_result"
    }
   ],
   "source": [
    "#Create a series of the p-values in order\n",
    "pvs = []\n",
    "for i in df.index:\n",
    "    r = simulate_assemblage_single(df, df.index.get_loc(i), N = 10000, center = 'observed')\n",
    "    pvs.append(r)\n",
    "p = pd.Series([r['p-value'] for r in pvs], name = 'p-value', index = df.index)\n",
    "# concatenate the series and sort by p-value so the lowest (and therefore most exceptional) are at the top\n",
    "df_p = pd.concat((df,p), axis = 1).sort_values('p-value')\n",
    "df_p"
   ]
  },
  {
   "cell_type": "markdown",
   "metadata": {},
   "source": [
    "These types of comparisons can easily be applied at scale to entire sites or regions, providing an intuitive, empirical tool for comparing expected and observed distributions of objects across assemblages."
   ]
  },
  {
   "cell_type": "markdown",
   "metadata": {},
   "source": [
    "## Bibliography \n",
    "\n",
    "Nowicki, Krzysztof. 2008. Monastiraki Katalimata: Excavation of a Cretan Refuge Site, 1993-2000. Prehistory Monographs 24. Philadelphia, PA: INSTAP Academic Press.\n"
   ]
  },
  {
   "cell_type": "code",
   "execution_count": null,
   "metadata": {},
   "outputs": [],
   "source": []
  }
 ],
 "metadata": {
  "kernelspec": {
   "display_name": "Python 3",
   "language": "python",
   "name": "python3"
  },
  "language_info": {
   "codemirror_mode": {
    "name": "ipython",
    "version": 3
   },
   "file_extension": ".py",
   "mimetype": "text/x-python",
   "name": "python",
   "nbconvert_exporter": "python",
   "pygments_lexer": "ipython3",
   "version": "3.7.7"
  }
 },
 "nbformat": 4,
 "nbformat_minor": 4
}
